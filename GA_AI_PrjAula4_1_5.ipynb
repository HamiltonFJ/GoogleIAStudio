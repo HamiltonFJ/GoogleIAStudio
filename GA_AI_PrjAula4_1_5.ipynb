{
  "nbformat": 4,
  "nbformat_minor": 0,
  "metadata": {
    "colab": {
      "provenance": [],
      "gpuType": "T4",
      "authorship_tag": "ABX9TyOPGvPGWED5BVKEry/l++Nq",
      "include_colab_link": true
    },
    "kernelspec": {
      "name": "python3",
      "display_name": "Python 3"
    },
    "language_info": {
      "name": "python"
    },
    "accelerator": "GPU"
  },
  "cells": [
    {
      "cell_type": "markdown",
      "metadata": {
        "id": "view-in-github",
        "colab_type": "text"
      },
      "source": [
        "<a href=\"https://colab.research.google.com/github/HamiltonFJ/GoogleIAStudio/blob/main/GA_AI_PrjAula4_1_5.ipynb\" target=\"_parent\"><img src=\"https://colab.research.google.com/assets/colab-badge.svg\" alt=\"Open In Colab\"/></a>"
      ]
    },
    {
      "cell_type": "code",
      "source": [
        "pip install -U -q google-generativeai #Install SDK Python"
      ],
      "metadata": {
        "id": "ET_JtxtU54M3"
      },
      "execution_count": 45,
      "outputs": []
    },
    {
      "cell_type": "code",
      "source": [
        "!pip install --upgrade -q google-generativeai\n",
        "import google.generativeai as genai"
      ],
      "metadata": {
        "id": "MKakmlQT5-k7"
      },
      "execution_count": 46,
      "outputs": []
    },
    {
      "cell_type": "code",
      "source": [
        "#Importações e configurações iniciais\n",
        "import numpy as np\n",
        "import pandas as pd\n",
        "\n",
        "import google.generativeai as genai\n",
        "from google.colab import userdata\n",
        "api_key = userdata.get('SECRET_KEY')\n",
        "genai.configure(api_key=\"{}\".format(api_key))"
      ],
      "metadata": {
        "id": "5yDMQz61j176"
      },
      "execution_count": 51,
      "outputs": []
    },
    {
      "cell_type": "code",
      "source": [
        "for m in genai.list_models():\n",
        "    if \"embedContent\" in m.supported_generation_methods:\n",
        "        print(m.name)"
      ],
      "metadata": {
        "id": "BVxA49BWj4lZ",
        "colab": {
          "base_uri": "https://localhost:8080/",
          "height": 54
        },
        "outputId": "89ced9ee-d9e0-4434-fc4d-48c535d3db04"
      },
      "execution_count": 52,
      "outputs": [
        {
          "output_type": "stream",
          "name": "stdout",
          "text": [
            "models/embedding-001\n",
            "models/text-embedding-004\n"
          ]
        }
      ]
    },
    {
      "cell_type": "code",
      "source": [
        "result = genai.embed_content(\n",
        "    model=\"models/embedding-001\",\n",
        "    content=[\n",
        "        'What is the meaning of life?',\n",
        "        'How much wood would a woodchuck chuck?',\n",
        "        'How much wood would a woodchuck chuck?',\n",
        "        'How does the brain work?'\n",
        "    ],\n",
        ")\n",
        "#for embedding in result['embedding']:\n",
        "#    print(str(embedding)[:50], ' ... TRIMMED')\n",
        "\n",
        "#print(len(result['embedding']))"
      ],
      "metadata": {
        "id": "XuYsuptlEyjg"
      },
      "execution_count": 53,
      "outputs": []
    },
    {
      "cell_type": "code",
      "source": [
        "#Listagem de documentos que serão buscados\n",
        "DOCUMENT1 = {\n",
        "  \"Título\": \"Acessar, Acesso, Esquecer senha, conta bloqueada, login não funciona, login\",\n",
        "  \"Conteúdo\": \"Certo, essas são possíveis soluções: \\n\"\n",
        "              \"\\n\"\n",
        "              \"Tentar redefinir senha\"\n",
        "              \"\\n\"\n",
        "              \"Verificar se a tecla Caps Lock está ativada\"\n",
        "              \"\\n\"\n",
        "              \"Limpar cache e cookies do navegador\"\n",
        "              \"\\n\"\n",
        "              \"Direcionar ao departamento TI\"\n",
        "}\n",
        "DOCUMENT2 = {\n",
        "  \"Título\": \"Impressoras, falhando, não, liga, imprime, falhas\",\n",
        "  \"Conteúdo\": \"Certo, essas são possíveis soluções: \\n\"\n",
        "              \"\\n\"\n",
        "              \"Verificar se a impressora está ligada e conectada corretamente\"\n",
        "              \"\\n\"\n",
        "              \" Verificar nível de tinta/toner\"\n",
        "              \"\\n\"\n",
        "              \"Limpar cabeçotes da impressora\"\n",
        "              \"\\n\"\n",
        "              \"Reinstalar drivers da impressora\"\n",
        "              \"\\n\"\n",
        "              \"Direcionar ao departamento TI\"\n",
        "}\n",
        "DOCUMENT3 = {\n",
        "  \"Título\": \"enviar, receber, e-mail, spam, conta, bloqueada, black-list\",\n",
        "  \"Conteúdo\": \"Certo, essas são possíveis soluções: \\n\"\n",
        "              \"\\n\"\n",
        "              \"Verificar se o e-mail está configurado corretamente\"\n",
        "              \"\\n\"\n",
        "              \"Limpar caixa de entrada e spam\"\n",
        "              \"\\n\"\n",
        "              \"Mudar senha do e-mail\"\n",
        "              \"\\n\"\n",
        "              \"Direcionar ao departamento TI\"\n",
        "}\n",
        "DOCUMENT4 = {\n",
        "  \"Título\": \"Software, travando, sistema, Programa, erro, instalação, atualização, lentidão\",\n",
        "  \"Conteúdo\": \"Certo, essas são possíveis soluções: \\n\"\n",
        "              \"\\n\"\n",
        "              \"Reiniciar o computador\"\n",
        "              \"\\n\"\n",
        "              \"Atualizar o software\"\n",
        "              \"\\n\"\n",
        "              \"Reinstalar o software\"\n",
        "              \"\\n\"\n",
        "              \"Verificar se o sistema atende aos requisitos mínimos do software\"\n",
        "              \"\\n\"\n",
        "              \"Direcionar ao departamento TI\"\n",
        "}\n",
        "DOCUMENT5 = {\n",
        "  \"Título\": \"Computador, lento, esquentando, superaquecendo, barulho\",\n",
        "  \"Conteúdo\": \"Certo, essas são possíveis soluções: \\n\"\n",
        "            \"\\n\"\n",
        "            \"Limpar o computador internamente\"\n",
        "            \"\\n\"\n",
        "            \"Verificar se as ventoinhas estão funcionando\"\n",
        "            \"\\n\"\n",
        "            \"Atualizar drivers de hardware\"\n",
        "            \"\\n\"\n",
        "            \"Testar memórias RAM e disco rígido\"\n",
        "            \"\\n\"\n",
        "            \"Direcionar ao departamento TI\"\n",
        "}\n",
        "DOCUMENT6 = {\n",
        "  \"Título\": \"Celular, lento, bateria, aplicativo, funciona, conexão\",\n",
        "  \"Conteúdo\": \"Certo, essas são possíveis soluções: \\n\"\n",
        "              \"\\n\"\n",
        "              \"Reiniciar o celular\"\n",
        "              \"\\n\"\n",
        "              \"Atualizar o sistema operacional e aplicativos\"\n",
        "              \"\\n\"\n",
        "              \"Limpar espaço de armazenamento\"\n",
        "              \"\\n\"\n",
        "              \"Fazer backup e restaurar o celular para as configurações de fábrica\"\n",
        "              \"\\n\"\n",
        "              \"Contatar a operadora de celular ou fabricante do aparelho\"\n",
        "}\n",
        "DOCUMENT7 = {\n",
        "  \"Título\": \"Instalar, impressora, configurar, problema, impressão\",\n",
        "  \"Conteúdo\": \"Certo, essas são possíveis soluções: \\n\"\n",
        "              \"\\n\"\n",
        "              \"Verificar a documentação relevante do fabricante da impressora\"\n",
        "              \"\\n\"\n",
        "              \"Direcionar ao departamento TI\"\n",
        "}\n",
        "DOCUMENT8 = {\n",
        "  \"Título\": \"Dúvida, Dúvidas, software, hardwares, sistema, internet, segurança\",\n",
        "  \"Conteúdo\": \"Certo, essas são possíveis soluções: \\n\"\n",
        "              \"\\n\"\n",
        "              \"Pesquise documentação relevante ou tutoriais online\"\n",
        "              \"\\n\"\n",
        "              \"Direcionar ao departamento TI\"\n",
        "}\n",
        "DOCUMENT9 = {\n",
        "  \"Título\": \"Assistência, Remota, ajuda, tarefa, computador, Configuração, Equipamentos, Configurar, e-mail, impressora, rede Wi-Fi\",\n",
        "  \"Conteúdo\": \"Certo, essas são possíveis soluções: \\n\"\n",
        "              \"\\n\"\n",
        "              \"Pesquise documentação relevante ou tutoriais online\"\n",
        "              \"\\n\"\n",
        "              \"Abrir tickey no departamento de TI solicitando suporte remoto\"\n",
        "              \"\\n\"\n",
        "              \"Abrir tickey no departamento de TI solicitando orientação por telefone\"\n",
        "              \"\\n\"\n",
        "              \"Abrir tickey no departamento de TI solicitando orientação por chat\"\n",
        "}\n",
        "DOCUMENT10 = {\n",
        "  \"Título\": \"Backup, Restauração, Dados, importantes, restaurar, arquivos\",\n",
        "  \"Conteúdo\": \"Certo, essas são possíveis soluções: \\n\"\n",
        "              \"\\n\"\n",
        "              \"Abrir tickey no departamento de TI solicitando procedimento de  backup\"\n",
        "              \"\\n\"\n",
        "}\n",
        "DOCUMENT11 = {\n",
        "  \"Título\": \"Mensagens, Erro , computador, software\",\n",
        "  \"Conteúdo\": \"Certo, essas são possíveis soluções: \\n\"\n",
        "              \"\\n\"\n",
        "              \"Tente identificar o código de erro e pesquisar sua causa na internet\"\n",
        "              \"\\n\"\n",
        "              \"Busque soluções genéricas para erros comuns\"\n",
        "              \"\\n\"\n",
        "              \"Direcionar ao departamento TI\"\n",
        "}\n",
        "DOCUMENT12 = {\n",
        "  \"Título\": \"Impressão, Fio, configurar, impressora, rede, Wi-Fi\",\n",
        "  \"Conteúdo\": \"Certo, essas são possíveis soluções: \\n\"\n",
        "              \"\\n\"\n",
        "              \"Pesquise documentação relevante ou tutoriais online\"\n",
        "              \"\\n\"\n",
        "              \"Pesquise documentação relevante ou tutoriais online\"\n",
        "              \"\\n\"\n",
        "              \"Direcionar ao departamento TI\"\n",
        "}\n",
        "documents = [DOCUMENT1, DOCUMENT2, DOCUMENT3,DOCUMENT4,DOCUMENT5, DOCUMENT6, DOCUMENT7, DOCUMENT8, DOCUMENT9, DOCUMENT10, DOCUMENT11, DOCUMENT12]"
      ],
      "metadata": {
        "id": "KkyXTCkCTpC9"
      },
      "execution_count": 54,
      "outputs": []
    },
    {
      "cell_type": "code",
      "source": [
        "df = pd.DataFrame(documents)"
      ],
      "metadata": {
        "id": "Gl6rLoRfUzyu"
      },
      "execution_count": 55,
      "outputs": []
    },
    {
      "cell_type": "code",
      "source": [
        "def embed_fn(title, text):\n",
        "  return genai.embed_content(model=model,\n",
        "                             content=text,\n",
        "                             title=title,\n",
        "                             task_type=\"RETRIEVAL_DOCUMENT\")[\"embedding\"]"
      ],
      "metadata": {
        "id": "MLBViL2UXvd4"
      },
      "execution_count": 56,
      "outputs": []
    },
    {
      "cell_type": "code",
      "source": [
        "model=\"models/embedding-001\"\n",
        "df[\"Embeddings\"] = df.apply(lambda row: embed_fn(row[\"Título\"], row[\"Conteúdo\"]), axis=1)"
      ],
      "metadata": {
        "id": "rIoGjLh9Jyv3"
      },
      "execution_count": 57,
      "outputs": []
    },
    {
      "cell_type": "markdown",
      "source": [],
      "metadata": {
        "id": "oTyGvfCwowAN"
      }
    },
    {
      "cell_type": "code",
      "source": [
        "def gerar_e_buscar_consulta(consulta, base, model):\n",
        "  embedding_da_consulta = genai.embed_content(model=model,\n",
        "                                          content=consulta,\n",
        "                                          task_type=\"RETRIEVAL_QUERY\")[\"embedding\"]\n",
        "  produtos_escalares = np.dot(np.stack(df[\"Embeddings\"]), embedding_da_consulta)\n",
        "  indice = np.argmax(produtos_escalares)\n",
        "  return df.iloc[indice][\"Conteúdo\"]"
      ],
      "metadata": {
        "id": "BC9rdjJ_ccB6"
      },
      "execution_count": 58,
      "outputs": []
    },
    {
      "cell_type": "code",
      "source": [
        "generation_config = {\n",
        "    \"temperature\": 0.5,\n",
        "    \"candidate_count\": 1,\n",
        "}"
      ],
      "metadata": {
        "id": "q9qbyPyhGMQA"
      },
      "execution_count": 59,
      "outputs": []
    },
    {
      "cell_type": "code",
      "source": [
        "print(\" >> Olá, eu sou a I.A.S.I.S, Inteligência Artificial e Suporte Interno da Selênio.TI <<\"\"\\n\")\n",
        "print(\"------------------------------------- by Hamilton -----------------------------------------\")\n",
        "print(\"\\n\")\n",
        "\n",
        "consulta = input(\"Onde é o problema caro colaborador da Selênio? \")\n",
        "trecho = gerar_e_buscar_consulta(consulta, df, model)\n",
        "print(\"\\n\")\n",
        "print(trecho)\n",
        "print(\"\\n\")\n",
        "print(\">> Mais informações para você:\")\n",
        "print(\"\\n\")\n",
        "\n",
        "prompt = f\"\"\"Reescreva esse texto de uma forma mais descontraída, sem adicionar informações que não façam parte do texto: {consulta}\"\"\"\n",
        "model_2 = genai.GenerativeModel(\"gemini-1.0-pro\")\n",
        "response = model_2.generate_content(prompt)\n",
        "print(response.text)\n"
      ],
      "metadata": {
        "id": "ZqZz2E7rfyHI",
        "colab": {
          "base_uri": "https://localhost:8080/",
          "height": 530
        },
        "outputId": "c66707bb-72e4-43cf-c32a-e7cd6a527c92"
      },
      "execution_count": 65,
      "outputs": [
        {
          "output_type": "stream",
          "name": "stdout",
          "text": [
            " >> Olá, eu sou a I.A.S.I.S, Inteligência Artificial e Suporte Interno da Selênio.TI <<\n",
            "\n",
            "------------------------------------- by Hamilton -----------------------------------------\n",
            "\n",
            "\n",
            "Onde é o problema caro colaborador da Selênio? teclado\n",
            "\n",
            "\n",
            "Certo, essas são possíveis soluções: \n",
            "\n",
            "Reiniciar o computador\n",
            "Atualizar o software\n",
            "Reinstalar o software\n",
            "Verificar se o sistema atende aos requisitos mínimos do software\n",
            "Direcionar ao departamento TI\n",
            "\n",
            "\n",
            ">> Mais informações para você:\n",
            "\n",
            "\n",
            "**Texto original:**\n",
            "\n",
            "O teclado é um dispositivo de entrada utilizado para digitar texto e símbolos em um computador ou laptop. Ele consiste em um conjunto de teclas, cada uma representando um caractere específico. As teclas são organizadas em uma matriz, com linhas e colunas.\n",
            "\n",
            "**Texto descontraído:**\n",
            "\n",
            "Ei, mano! Sabe o teclado do seu PC ou notebook? É tipo um micro universo de teclas que você aperta pra falar com o computador. Cada tecla tem uma letra, número ou símbolo especial. Imagina tipo uma turma de botões alinhadinhos, prontos pra você digitar o que quiser!\n"
          ]
        }
      ]
    }
  ]
}